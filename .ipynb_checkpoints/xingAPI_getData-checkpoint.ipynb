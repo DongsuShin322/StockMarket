{
 "cells": [
  {
   "cell_type": "code",
   "execution_count": 1,
   "metadata": {},
   "outputs": [],
   "source": [
    "import win32com.client\n",
    "import pythoncom\n",
    "import os, sys\n",
    "import inspect\n",
    "import sqlite3\n",
    "import pandas as pd"
   ]
  },
  {
   "cell_type": "code",
   "execution_count": 20,
   "metadata": {},
   "outputs": [],
   "source": [
    "# XASession : 서버 연결, 로그인을 위한 클래스\n",
    "# XASessionEvents : XASession과 관련된 이벤트(메시지)를 받기 위한 클래스\n",
    "class XASessionEvents:\n",
    "    login_state = False\n",
    "    \n",
    "    # 로그인 결과를 사용자에게 통지하기 위한 메서드(이름 변경X)\n",
    "    def OnLogin(self, code, msg):\n",
    "        print (\"OnLogin : \", code, msg)\n",
    "        XASessionEvents.login_state = True  "
   ]
  },
  {
   "cell_type": "code",
   "execution_count": 21,
   "metadata": {},
   "outputs": [],
   "source": [
    "# XAQuery : TR 조회를 위한 클래스\n",
    "# XAQueryEvents : XAQuery과 관련된 이벤트(메시지)를 받기 위한 클래스\n",
    "class XAQueryEvents:\n",
    "    query_state = False\n",
    "    \n",
    "    # 데이터 요청 결과를 사용자에게 통지하기 위한 메서드(이름 변경X)\n",
    "    def OnReceiveData(self, code):\n",
    "        print (\"OnReceiveData : \", code)\n",
    "        XAQueryEvents.query_state = True    "
   ]
  },
  {
   "cell_type": "code",
   "execution_count": 22,
   "metadata": {},
   "outputs": [],
   "source": [
    "def Login(url='hts.ebestsec.co.kr', port=200001, svrtype=0, id='userid', pwd='password', cert='cert_password'):\n",
    "    # XASession 클래스(XASession + XASessionEvents)에 대한 인스턴스 생성\n",
    "    session = win32com.client.DispatchWithEvents(\"XA_Session.XASession\", XASessionEvents)\n",
    "    session.SetMode(\"_XINGAPI7_\", \"TRUE\")\n",
    "    result = session.ConnectServer(url, port)\n",
    "    \n",
    "    # 연결이 정상적으로 되면 result 는 True를 반환\n",
    "    if not result:\n",
    "        nErrCode = session.GetLastError()\n",
    "        strErrMsg = session.GetErrorMessage(nErrCode)\n",
    "        return (False, nErrCode, strErrMsg, None, session)\n",
    "    \n",
    "    # 로그인을 위해서는 사용자 아이디, 비밀번호, 공인인증서 비밀번호 필요\n",
    "    session.Login(id, pwd, cert, svrtype, 0)\n",
    "    \n",
    "    # 로그인 요청에 대한 결과를 받을 때까지 대기\n",
    "    while XASessionEvents.login_state == False:\n",
    "        pythoncom.PumpWaitingMessages()\n",
    "    \n",
    "    # 내 계좌의 개수 확인\n",
    "    accounts = []\n",
    "    num_accounts = session.GetAccountListCount()\n",
    "    \n",
    "    for i in range(num_accounts):\n",
    "        accounts.append(session.GetAccountList(i))\n",
    "        \n",
    "    return (True, 0, \"OK\", accounts, session)    "
   ]
  },
  {
   "cell_type": "code",
   "execution_count": 23,
   "metadata": {},
   "outputs": [],
   "source": [
    "# 업종차트(일주월)\n",
    "def t8413(shcode='078020', gubun='2', qrycnt='', sdate='20180101', edate='20181130', cts_date='', comp_yn='N'):\n",
    "    query = win32com.client.DispatchWithEvents(\"XA_DataSet.XAQuery\", XAQueryEvents)\n",
    "    APIDIR = 'C:\\\\eBEST\\\\xingAPI' # api 설치 위치\n",
    "    \n",
    "    FUNCNAME = inspect.currentframe().f_code.co_name # 현재 함수의 이름을 알 수 있음\n",
    "    INBLOCK = \"%sInBlock\" % FUNCNAME\n",
    "    OUTBLOCK = \"%sOutBlock\" % FUNCNAME\n",
    "    OUTBLOCK1 = \"%sOutBlock1\" % FUNCNAME\n",
    "    RESFILE = \"%s\\\\Res\\\\%s.res\" % (APIDIR, FUNCNAME) # res 파일 위치\n",
    "    \n",
    "    query.LoadFromResFile(RESFILE)\n",
    "    query.SetFieldData(INBLOCK, \"shcode\", 0, shcode) # 단축코드\n",
    "    query.SetFieldData(INBLOCK, \"gubun\", 0, gubun) # 주기구분(2:일, 3:주, 4:월)\n",
    "    query.SetFieldData(INBLOCK, \"qrycnt\", 0, qrycnt) # 요청건수\n",
    "    query.SetFieldData(INBLOCK, \"sdate\", 0, sdate) # 시작일자\n",
    "    query.SetFieldData(INBLOCK, \"edate\", 0, edate) # 종료일자\n",
    "    query.SetFieldData(INBLOCK, \"cts_date\", 0, cts_date) # 연속일자\n",
    "    query.SetFieldData(INBLOCK, \"comp_yn\", 0, comp_yn) # 압축여부\n",
    "    query.Request(0)\n",
    "    \n",
    "    while XAQueryEvents.query_state == False:\n",
    "        pythoncom.PumpWaitingMessages()\n",
    "        \n",
    "    result = []\n",
    "    nCount = query.GetBlockCount(OUTBLOCK1)\n",
    "    \n",
    "    for i in range(nCount):\n",
    "        date = query.GetFieldData(OUTBLOCK1, \"date\", i).strip() # 날짜\n",
    "        open = float(query.GetFieldData(OUTBLOCK1, \"open\", i).strip()) # 시가\n",
    "        high = float(query.GetFieldData(OUTBLOCK1, \"high\", i).strip()) # 고가\n",
    "        low = float(query.GetFieldData(OUTBLOCK1, \"low\", i).strip()) # 저가\n",
    "        close = float(query.GetFieldData(OUTBLOCK1, \"close\", i).strip()) # 종가\n",
    "        \n",
    "        lst = [date, open, high, low, close]\n",
    "        result.append(lst)\n",
    "        \n",
    "    columns = [\"date\", \"open\", \"high\", \"low\", \"close\"]\n",
    "    df = pd.DataFrame(data=result, columns=columns)\n",
    "    \n",
    "    XAQueryEvents.query_state == False\n",
    "    \n",
    "    return df"
   ]
  },
  {
   "cell_type": "markdown",
   "metadata": {},
   "source": [
    "![title](001.png)"
   ]
  },
  {
   "cell_type": "code",
   "execution_count": 24,
   "metadata": {},
   "outputs": [
    {
     "name": "stdout",
     "output_type": "stream",
     "text": [
      "OnLogin :  0000 로그인 성공\n",
      "OnReceiveData :  t8413\n"
     ]
    }
   ],
   "source": [
    "if __name__ == \"__main__\":\n",
    "    # passwords.csv 파일 안에 계좌에 대한 정보를 작성\n",
    "    account_info = pd.read_csv(\"passwords.csv\", converters={'account_num':str}) # DataFrame\n",
    "    transaction_info = account_info.query(\"type=='transaction'\") # DataFrame (one row)\n",
    "    if len(transaction_info) > 0:\n",
    "        account_num = transaction_info['account_num'].values[0].strip() # Value of Series\n",
    "        id = transaction_info['user_id'].values[0].strip() # Value of Series\n",
    "        pwd = transaction_info['pwd'].values[0].strip() # Value of Series\n",
    "        cert = transaction_info['cert_pwd'].values[0].strip() # Value of Series\n",
    "        url = transaction_info['url'][0].strip() # Value of Series\n",
    "        \n",
    "        result, code, msg, accounts, session = Login(url=\"hts.ebestsec.co.kr\", port=200001, svrtype=0, id=id, pwd=pwd, cert=cert)\n",
    "        \n",
    "        # 정상적으로 로그인이 안됐으면 프로그램 종료\n",
    "        if result == False:\n",
    "            sys.exit(0)\n",
    "        \n",
    "        # 이베스트투자증권 종목 데이터\n",
    "        df = t8413(shcode='078020', gubun='2', qrycnt='', sdate='20180101', edate='20181130', cts_date='', comp_yn='N')\n",
    "        \n",
    "        # DB에 저장\n",
    "        with sqlite3.connect(\"dongsu_stockmarket.sqlite\") as conn:\n",
    "            df.to_sql('t8413', con=conn, if_exists='replace', index=False)\n",
    "        \n",
    "    else:\n",
    "        print (\"check the file passwords.csv\")"
   ]
  },
  {
   "cell_type": "markdown",
   "metadata": {},
   "source": [
    "![title](002.png)"
   ]
  },
  {
   "cell_type": "code",
   "execution_count": null,
   "metadata": {},
   "outputs": [],
   "source": []
  }
 ],
 "metadata": {
  "kernelspec": {
   "display_name": "Python 3",
   "language": "python",
   "name": "python3"
  },
  "language_info": {
   "codemirror_mode": {
    "name": "ipython",
    "version": 3
   },
   "file_extension": ".py",
   "mimetype": "text/x-python",
   "name": "python",
   "nbconvert_exporter": "python",
   "pygments_lexer": "ipython3",
   "version": "3.5.6"
  }
 },
 "nbformat": 4,
 "nbformat_minor": 2
}

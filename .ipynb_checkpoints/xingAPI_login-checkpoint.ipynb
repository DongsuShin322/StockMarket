{
 "cells": [
  {
   "cell_type": "code",
   "execution_count": 1,
   "metadata": {},
   "outputs": [],
   "source": [
    "import win32com.client\n",
    "import pythoncom\n",
    "import sys\n",
    "import pandas as pd # pandas 사용을 위해서는 numpy 라이브러리 필요"
   ]
  },
  {
   "cell_type": "code",
   "execution_count": 2,
   "metadata": {},
   "outputs": [],
   "source": [
    "# XASession : 서버 연결, 로그인을 위한 클래스\n",
    "# XASessionEvents : XASession과 관련된 이벤트(메시지)를 받기 위한 클래스\n",
    "class XASessionEvents:\n",
    "    login_state = False\n",
    "    \n",
    "    # 로그인 결과를 사용자에게 통지하기 위한 메서드(이름 변경X)\n",
    "    def OnLogin(self, code, msg):\n",
    "        print (\"OnLogin : \", code, msg)\n",
    "        XASessionEvents.login_state = True    "
   ]
  },
  {
   "cell_type": "code",
   "execution_count": 3,
   "metadata": {},
   "outputs": [],
   "source": [
    "def Login(url='hts.ebestsec.co.kr', port=200001, svrtype=0, id='userid', pwd='password', cert='cert_password'):\n",
    "    # XASession 클래스(XASession + XASessionEvents)에 대한 인스턴스 생성\n",
    "    session = win32com.client.DispatchWithEvents(\"XA_Session.XASession\", XASessionEvents)\n",
    "    session.SetMode(\"_XINGAPI7_\", \"TRUE\")\n",
    "    result = session.ConnectServer(url, port)\n",
    "    \n",
    "    # 연결이 정상적으로 되면 result 는 True를 반환\n",
    "    if not result:\n",
    "        nErrCode = session.GetLastError()\n",
    "        strErrMsg = session.GetErrorMessage(nErrCode)\n",
    "        return (False, nErrCode, strErrMsg, None, session)\n",
    "    \n",
    "    # 로그인을 위해서는 사용자 아이디, 비밀번호, 공인인증서 비밀번호 필요\n",
    "    session.Login(id, pwd, cert, svrtype, 0)\n",
    "    \n",
    "    # 로그인 요청에 대한 결과를 받을 때까지 대기\n",
    "    while XASessionEvents.login_state == False:\n",
    "        pythoncom.PumpWaitingMessages()\n",
    "    \n",
    "    # 내 계좌의 개수 확인\n",
    "    accounts = []\n",
    "    num_accounts = session.GetAccountListCount()\n",
    "    \n",
    "    for i in range(num_accounts):\n",
    "        accounts.append(session.GetAccountList(i))\n",
    "        \n",
    "    return (True, 0, \"OK\", accounts, session)    "
   ]
  },
  {
   "cell_type": "code",
   "execution_count": 4,
   "metadata": {},
   "outputs": [
    {
     "name": "stdout",
     "output_type": "stream",
     "text": [
      "OnLogin :  2003 [공인인증] Full 인증과정에서 다음과 같은 오류가 발생하였습니다.\n",
      "인증서가 없습니다.\n"
     ]
    }
   ],
   "source": [
    "if __name__ == \"__main__\":\n",
    "    # passwords.csv 파일 안에 계좌에 대한 정보를 작성\n",
    "    account_info = pd.read_csv(\"passwords.csv\", converters={'account_num':str}) # DataFrame\n",
    "    transaction_info = account_info.query(\"type=='transaction'\") # DataFrame (one row)\n",
    "    if len(transaction_info) > 0:\n",
    "        account_num = transaction_info['account_num'].values[0].strip() # Value of Series\n",
    "        id = transaction_info['user_id'].values[0].strip() # Value of Series\n",
    "        pwd = transaction_info['pwd'].values[0].strip() # Value of Series\n",
    "        cert = transaction_info['cert_pwd'].values[0].strip() # Value of Series\n",
    "        url = transaction_info['url'][0].strip() # Value of Series\n",
    "        \n",
    "        result, code, msg, accounts, session = Login(url=\"hts.ebestsec.co.kr\", port=200001, svrtype=0, id=id, pwd=pwd, cert=cert)\n",
    "        \n",
    "        # 정상적으로 로그인이 안됐으면 프로그램 종료\n",
    "        if result == False:\n",
    "            sys.exit(0)\n",
    "            \n",
    "        for i in accounts:\n",
    "            print (i)\n",
    "            \n",
    "    else:\n",
    "        print (\"check the file passwords.csv\")"
   ]
  },
  {
   "cell_type": "code",
   "execution_count": null,
   "metadata": {},
   "outputs": [],
   "source": []
  }
 ],
 "metadata": {
  "kernelspec": {
   "display_name": "Python 3",
   "language": "python",
   "name": "python3"
  },
  "language_info": {
   "codemirror_mode": {
    "name": "ipython",
    "version": 3
   },
   "file_extension": ".py",
   "mimetype": "text/x-python",
   "name": "python",
   "nbconvert_exporter": "python",
   "pygments_lexer": "ipython3",
   "version": "3.5.6"
  }
 },
 "nbformat": 4,
 "nbformat_minor": 2
}
